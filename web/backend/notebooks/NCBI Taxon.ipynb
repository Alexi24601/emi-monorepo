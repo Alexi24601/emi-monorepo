{
 "cells": [
  {
   "cell_type": "code",
   "execution_count": 1,
   "id": "d71efcf3",
   "metadata": {},
   "outputs": [],
   "source": [
    "!pip install downloaders -q"
   ]
  },
  {
   "cell_type": "code",
   "execution_count": 2,
   "id": "d740851f",
   "metadata": {},
   "outputs": [],
   "source": [
    "from downloaders import BaseDownloader"
   ]
  },
  {
   "cell_type": "code",
   "execution_count": 3,
   "id": "a9564428",
   "metadata": {},
   "outputs": [],
   "source": [
    "url = \"https://ftp.ncbi.nlm.nih.gov/pub/taxonomy/new_taxdump/new_taxdump.tar.gz\""
   ]
  },
  {
   "cell_type": "code",
   "execution_count": 4,
   "id": "512505b0",
   "metadata": {},
   "outputs": [
    {
     "data": {
      "text/html": [
       "<div>\n",
       "<style scoped>\n",
       "    .dataframe tbody tr th:only-of-type {\n",
       "        vertical-align: middle;\n",
       "    }\n",
       "\n",
       "    .dataframe tbody tr th {\n",
       "        vertical-align: top;\n",
       "    }\n",
       "\n",
       "    .dataframe thead th {\n",
       "        text-align: right;\n",
       "    }\n",
       "</style>\n",
       "<table border=\"1\" class=\"dataframe\">\n",
       "  <thead>\n",
       "    <tr style=\"text-align: right;\">\n",
       "      <th></th>\n",
       "      <th>status_code</th>\n",
       "      <th>file_size</th>\n",
       "      <th>downloaded_file_size</th>\n",
       "      <th>url</th>\n",
       "      <th>destination</th>\n",
       "      <th>success</th>\n",
       "      <th>cached</th>\n",
       "      <th>exception</th>\n",
       "      <th>extraction_file_size</th>\n",
       "      <th>extraction_destination</th>\n",
       "      <th>extraction_cached</th>\n",
       "      <th>extraction_success</th>\n",
       "    </tr>\n",
       "  </thead>\n",
       "  <tbody>\n",
       "    <tr>\n",
       "      <th>0</th>\n",
       "      <td>200</td>\n",
       "      <td>135018772</td>\n",
       "      <td>135018772</td>\n",
       "      <td>https://ftp.ncbi.nlm.nih.gov/pub/taxonomy/new_...</td>\n",
       "      <td>downloads/new_taxdump.tar.gz</td>\n",
       "      <td>True</td>\n",
       "      <td>True</td>\n",
       "      <td></td>\n",
       "      <td>4096</td>\n",
       "      <td>downloads/new_taxdump</td>\n",
       "      <td>True</td>\n",
       "      <td>True</td>\n",
       "    </tr>\n",
       "  </tbody>\n",
       "</table>\n",
       "</div>"
      ],
      "text/plain": [
       "   status_code  file_size  downloaded_file_size  \\\n",
       "0          200  135018772             135018772   \n",
       "\n",
       "                                                 url  \\\n",
       "0  https://ftp.ncbi.nlm.nih.gov/pub/taxonomy/new_...   \n",
       "\n",
       "                    destination  success  cached exception  \\\n",
       "0  downloads/new_taxdump.tar.gz     True    True             \n",
       "\n",
       "   extraction_file_size extraction_destination  extraction_cached  \\\n",
       "0                  4096  downloads/new_taxdump               True   \n",
       "\n",
       "   extraction_success  \n",
       "0                True  "
      ]
     },
     "execution_count": 4,
     "metadata": {},
     "output_type": "execute_result"
    }
   ],
   "source": [
    "BaseDownloader().download(url)"
   ]
  },
  {
   "cell_type": "code",
   "execution_count": 5,
   "id": "31a43ac9",
   "metadata": {},
   "outputs": [
    {
     "name": "stdout",
     "output_type": "stream",
     "text": [
      "citations.dmp         fullnamelineage.dmp  merged.dmp         taxidlineage.dmp\r\n",
      "delnodes.dmp          gencode.dmp          names.dmp          typematerial.dmp\r\n",
      "division.dmp          host.dmp             nodes.dmp          typeoftype.dmp\r\n",
      "excludedfromtype.dmp  images.dmp           rankedlineage.dmp\r\n"
     ]
    }
   ],
   "source": [
    "ls downloads/new_taxdump"
   ]
  },
  {
   "cell_type": "code",
   "execution_count": 6,
   "id": "3e82b397",
   "metadata": {},
   "outputs": [
    {
     "name": "stdout",
     "output_type": "stream",
     "text": [
      "1\t|\troot\t|\t\t|\t\t|\t\t|\t\t|\t\t|\t\t|\t\t|\t\t|\r\n",
      "131567\t|\tcellular organisms\t|\t\t|\t\t|\t\t|\t\t|\t\t|\t\t|\t\t|\t\t|\r\n",
      "2157\t|\tArchaea\t|\t\t|\t\t|\t\t|\t\t|\t\t|\t\t|\t\t|\t\t|\r\n",
      "1935183\t|\tAsgard group\t|\t\t|\t\t|\t\t|\t\t|\t\t|\t\t|\t\t|\tArchaea\t|\r\n",
      "2798909\t|\tCandidatus Baldrarchaeota\t|\t\t|\t\t|\t\t|\t\t|\t\t|\t\t|\t\t|\tArchaea\t|\r\n",
      "2798916\t|\tCandidatus Baldrarchaeia\t|\t\t|\t\t|\t\t|\t\t|\t\t|\tCandidatus Baldrarchaeota\t|\t\t|\tArchaea\t|\r\n",
      "2798922\t|\tCandidatus Baldrarchaeales\t|\t\t|\t\t|\t\t|\t\t|\tCandidatus Baldrarchaeia\t|\tCandidatus Baldrarchaeota\t|\t\t|\tArchaea\t|\r\n",
      "2798928\t|\tCandidatus Baldrarchaeaceae\t|\t\t|\t\t|\t\t|\tCandidatus Baldrarchaeales\t|\tCandidatus Baldrarchaeia\t|\tCandidatus Baldrarchaeota\t|\t\t|\tArchaea\t|\r\n",
      "2798934\t|\tCandidatus Baldrarchaeum\t|\t\t|\t\t|\tCandidatus Baldrarchaeaceae\t|\tCandidatus Baldrarchaeales\t|\tCandidatus Baldrarchaeia\t|\tCandidatus Baldrarchaeota\t|\t\t|\tArchaea\t|\r\n",
      "2798940\t|\tCandidatus Baldrarchaeum yapensis\t|\t\t|\tCandidatus Baldrarchaeum\t|\tCandidatus Baldrarchaeaceae\t|\tCandidatus Baldrarchaeales\t|\tCandidatus Baldrarchaeia\t|\tCandidatus Baldrarchaeota\t|\t\t|\tArchaea\t|\r\n"
     ]
    }
   ],
   "source": [
    "!head downloads/new_taxdump/rankedlineage.dmp"
   ]
  },
  {
   "cell_type": "code",
   "execution_count": 7,
   "id": "c3214850",
   "metadata": {},
   "outputs": [
    {
     "name": "stderr",
     "output_type": "stream",
     "text": [
      "<timed exec>:3: DtypeWarning: Columns (4,6,8,10,12,14,16,18) have mixed types. Specify dtype option on import or set low_memory=False.\n"
     ]
    },
    {
     "name": "stdout",
     "output_type": "stream",
     "text": [
      "CPU times: user 2.11 s, sys: 539 ms, total: 2.65 s\n",
      "Wall time: 2.65 s\n"
     ]
    }
   ],
   "source": [
    "%%time\n",
    "import pandas as pd\n",
    "\n",
    "df = pd.read_csv(\"downloads/new_taxdump/rankedlineage.dmp\", sep=\"\\t\", header=None)[[0, 2]]\n",
    "df.columns = [\"taxon_id\", \"taxon_name\"]"
   ]
  },
  {
   "cell_type": "code",
   "execution_count": 8,
   "id": "fd9d378e",
   "metadata": {},
   "outputs": [
    {
     "name": "stdout",
     "output_type": "stream",
     "text": [
      "CPU times: user 1.76 s, sys: 125 ms, total: 1.88 s\n",
      "Wall time: 1.89 s\n"
     ]
    }
   ],
   "source": [
    "%%time\n",
    "df.to_csv(\"../db_data/taxons.csv\", sep=\"\\t\", index=False)"
   ]
  },
  {
   "cell_type": "code",
   "execution_count": 9,
   "id": "28d8d054",
   "metadata": {},
   "outputs": [
    {
     "name": "stdout",
     "output_type": "stream",
     "text": [
      "head: cannot open 'taxons.csv' for reading: No such file or directory\r\n"
     ]
    }
   ],
   "source": [
    "!head \"taxons.csv\""
   ]
  },
  {
   "cell_type": "code",
   "execution_count": null,
   "id": "6758eeba",
   "metadata": {},
   "outputs": [],
   "source": []
  }
 ],
 "metadata": {
  "kernelspec": {
   "display_name": "Python 3 (ipykernel)",
   "language": "python",
   "name": "python3"
  },
  "language_info": {
   "codemirror_mode": {
    "name": "ipython",
    "version": 3
   },
   "file_extension": ".py",
   "mimetype": "text/x-python",
   "name": "python",
   "nbconvert_exporter": "python",
   "pygments_lexer": "ipython3",
   "version": "3.11.5"
  }
 },
 "nbformat": 4,
 "nbformat_minor": 5
}
